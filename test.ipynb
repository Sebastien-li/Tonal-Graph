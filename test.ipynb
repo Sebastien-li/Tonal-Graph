{
 "cells": [
  {
   "cell_type": "code",
   "execution_count": 1,
   "metadata": {},
   "outputs": [],
   "source": [
    "import numpy as np\n",
    "import music21\n",
    "from pathlib import Path\n",
    "from src.rhythm_tree import RhythmTree, RhythmTreeAnalyzed\n",
    "from src.note_graph import NoteGraph\n",
    "from src.music_theory_objects import qualities"
   ]
  },
  {
   "cell_type": "code",
   "execution_count": 4,
   "metadata": {},
   "outputs": [
    {
     "ename": "RomanTextTranslateException",
     "evalue": "At line 12 for token <music21.romanText.rtObjects.RTMeasure 6>, an exception was raised: \nTraceback (most recent call last):\n  File \"c:\\Users\\lxqse\\Documents\\Seb\\ATIAM\\Stage\\Harmonic Analysis Light\\.conda\\Lib\\site-packages\\music21\\romanText\\translate.py\", line 383, in translateTokens\n    self.translateOneLineToken(token)\n  File \"c:\\Users\\lxqse\\Documents\\Seb\\ATIAM\\Stage\\Harmonic Analysis Light\\.conda\\Lib\\site-packages\\music21\\romanText\\translate.py\", line 414, in translateOneLineToken\n    self.translateMeasureLineToken(lineToken)\n  File \"c:\\Users\\lxqse\\Documents\\Seb\\ATIAM\\Stage\\Harmonic Analysis Light\\.conda\\Lib\\site-packages\\music21\\romanText\\translate.py\", line 585, in translateMeasureLineToken\n    m = self.translateSingleMeasure(measureLineToken)\n        ^^^^^^^^^^^^^^^^^^^^^^^^^^^^^^^^^^^^^^^^^^^^^\n  File \"c:\\Users\\lxqse\\Documents\\Seb\\ATIAM\\Stage\\Harmonic Analysis Light\\.conda\\Lib\\site-packages\\music21\\romanText\\translate.py\", line 697, in translateSingleMeasure\n    self.translateSingleMeasureAtom(a, m, isLastAtomInMeasure=isLastAtomInMeasure)\n  File \"c:\\Users\\lxqse\\Documents\\Seb\\ATIAM\\Stage\\Harmonic Analysis Light\\.conda\\Lib\\site-packages\\music21\\romanText\\translate.py\", line 799, in translateSingleMeasureAtom\n    self.processRTChord(a, m, self.currentOffsetInMeasure)\n  File \"c:\\Users\\lxqse\\Documents\\Seb\\ATIAM\\Stage\\Harmonic Analysis Light\\.conda\\Lib\\site-packages\\music21\\romanText\\translate.py\", line 900, in processRTChord\n    raise RomanTextTranslateException(\nmusic21.romanText.translate.RomanTextTranslateException: too many notes in this measure: m6 I b9 p\n",
     "output_type": "error",
     "traceback": [
      "\u001b[1;31m---------------------------------------------------------------------------\u001b[0m",
      "\u001b[1;31mRomanTextTranslateException\u001b[0m               Traceback (most recent call last)",
      "File \u001b[1;32mc:\\Users\\lxqse\\Documents\\Seb\\ATIAM\\Stage\\Harmonic Analysis Light\\.conda\\Lib\\site-packages\\music21\\romanText\\translate.py:383\u001b[0m, in \u001b[0;36mPartTranslator.translateTokens\u001b[1;34m(self, tokens)\u001b[0m\n\u001b[0;32m    382\u001b[0m \u001b[38;5;28;01mtry\u001b[39;00m:\n\u001b[1;32m--> 383\u001b[0m     \u001b[38;5;28;43mself\u001b[39;49m\u001b[38;5;241;43m.\u001b[39;49m\u001b[43mtranslateOneLineToken\u001b[49m\u001b[43m(\u001b[49m\u001b[43mtoken\u001b[49m\u001b[43m)\u001b[49m\n\u001b[0;32m    384\u001b[0m \u001b[38;5;28;01mexcept\u001b[39;00m \u001b[38;5;167;01mException\u001b[39;00m:  \u001b[38;5;66;03m# pylint: disable=broad-exception-caught\u001b[39;00m\n",
      "File \u001b[1;32mc:\\Users\\lxqse\\Documents\\Seb\\ATIAM\\Stage\\Harmonic Analysis Light\\.conda\\Lib\\site-packages\\music21\\romanText\\translate.py:414\u001b[0m, in \u001b[0;36mPartTranslator.translateOneLineToken\u001b[1;34m(self, lineToken)\u001b[0m\n\u001b[0;32m    413\u001b[0m         \u001b[38;5;28;01massert\u001b[39;00m \u001b[38;5;28misinstance\u001b[39m(lineToken, rtObjects\u001b[38;5;241m.\u001b[39mRTMeasure)\n\u001b[1;32m--> 414\u001b[0m     \u001b[38;5;28;43mself\u001b[39;49m\u001b[38;5;241;43m.\u001b[39;49m\u001b[43mtranslateMeasureLineToken\u001b[49m\u001b[43m(\u001b[49m\u001b[43mlineToken\u001b[49m\u001b[43m)\u001b[49m\n\u001b[0;32m    416\u001b[0m \u001b[38;5;28;01melif\u001b[39;00m lineToken\u001b[38;5;241m.\u001b[39misTitle():\n",
      "File \u001b[1;32mc:\\Users\\lxqse\\Documents\\Seb\\ATIAM\\Stage\\Harmonic Analysis Light\\.conda\\Lib\\site-packages\\music21\\romanText\\translate.py:585\u001b[0m, in \u001b[0;36mPartTranslator.translateMeasureLineToken\u001b[1;34m(self, measureLineToken)\u001b[0m\n\u001b[0;32m    584\u001b[0m \u001b[38;5;28;01melse\u001b[39;00m:\n\u001b[1;32m--> 585\u001b[0m     m \u001b[38;5;241m=\u001b[39m \u001b[38;5;28;43mself\u001b[39;49m\u001b[38;5;241;43m.\u001b[39;49m\u001b[43mtranslateSingleMeasure\u001b[49m\u001b[43m(\u001b[49m\u001b[43mmeasureLineToken\u001b[49m\u001b[43m)\u001b[49m\n\u001b[0;32m    586\u001b[0m     \u001b[38;5;28;01mif\u001b[39;00m m\u001b[38;5;241m.\u001b[39mduration\u001b[38;5;241m.\u001b[39mquarterLength \u001b[38;5;241m==\u001b[39m \u001b[38;5;241m0\u001b[39m:\n",
      "File \u001b[1;32mc:\\Users\\lxqse\\Documents\\Seb\\ATIAM\\Stage\\Harmonic Analysis Light\\.conda\\Lib\\site-packages\\music21\\romanText\\translate.py:697\u001b[0m, in \u001b[0;36mPartTranslator.translateSingleMeasure\u001b[1;34m(self, measureToken)\u001b[0m\n\u001b[0;32m    696\u001b[0m     isLastAtomInMeasure \u001b[38;5;241m=\u001b[39m (i \u001b[38;5;241m==\u001b[39m \u001b[38;5;28mself\u001b[39m\u001b[38;5;241m.\u001b[39mnumberOfAtomsInCurrentMeasure \u001b[38;5;241m-\u001b[39m \u001b[38;5;241m1\u001b[39m)\n\u001b[1;32m--> 697\u001b[0m     \u001b[38;5;28;43mself\u001b[39;49m\u001b[38;5;241;43m.\u001b[39;49m\u001b[43mtranslateSingleMeasureAtom\u001b[49m\u001b[43m(\u001b[49m\u001b[43ma\u001b[49m\u001b[43m,\u001b[49m\u001b[43m \u001b[49m\u001b[43mm\u001b[49m\u001b[43m,\u001b[49m\u001b[43m \u001b[49m\u001b[43misLastAtomInMeasure\u001b[49m\u001b[38;5;241;43m=\u001b[39;49m\u001b[43misLastAtomInMeasure\u001b[49m\u001b[43m)\u001b[49m\n\u001b[0;32m    699\u001b[0m \u001b[38;5;66;03m# may need to adjust duration of last chord added\u001b[39;00m\n",
      "File \u001b[1;32mc:\\Users\\lxqse\\Documents\\Seb\\ATIAM\\Stage\\Harmonic Analysis Light\\.conda\\Lib\\site-packages\\music21\\romanText\\translate.py:799\u001b[0m, in \u001b[0;36mPartTranslator.translateSingleMeasureAtom\u001b[1;34m(self, a, m, isLastAtomInMeasure)\u001b[0m\n\u001b[0;32m    798\u001b[0m \u001b[38;5;28;01melif\u001b[39;00m \u001b[38;5;28misinstance\u001b[39m(a, rtObjects\u001b[38;5;241m.\u001b[39mRTChord):\n\u001b[1;32m--> 799\u001b[0m     \u001b[38;5;28;43mself\u001b[39;49m\u001b[38;5;241;43m.\u001b[39;49m\u001b[43mprocessRTChord\u001b[49m\u001b[43m(\u001b[49m\u001b[43ma\u001b[49m\u001b[43m,\u001b[49m\u001b[43m \u001b[49m\u001b[43mm\u001b[49m\u001b[43m,\u001b[49m\u001b[43m \u001b[49m\u001b[38;5;28;43mself\u001b[39;49m\u001b[38;5;241;43m.\u001b[39;49m\u001b[43mcurrentOffsetInMeasure\u001b[49m\u001b[43m)\u001b[49m\n\u001b[0;32m    800\u001b[0m \u001b[38;5;28;01melif\u001b[39;00m \u001b[38;5;28misinstance\u001b[39m(a, rtObjects\u001b[38;5;241m.\u001b[39mRTRepeat):\n",
      "File \u001b[1;32mc:\\Users\\lxqse\\Documents\\Seb\\ATIAM\\Stage\\Harmonic Analysis Light\\.conda\\Lib\\site-packages\\music21\\romanText\\translate.py:900\u001b[0m, in \u001b[0;36mPartTranslator.processRTChord\u001b[1;34m(self, a, m, currentOffset)\u001b[0m\n\u001b[0;32m    899\u001b[0m \u001b[38;5;28;01mif\u001b[39;00m newQL \u001b[38;5;241m<\u001b[39m\u001b[38;5;241m=\u001b[39m \u001b[38;5;241m0\u001b[39m:  \u001b[38;5;66;03m# pragma: no cover\u001b[39;00m\n\u001b[1;32m--> 900\u001b[0m     \u001b[38;5;28;01mraise\u001b[39;00m RomanTextTranslateException(\n\u001b[0;32m    901\u001b[0m         \u001b[38;5;124mf\u001b[39m\u001b[38;5;124m'\u001b[39m\u001b[38;5;124mtoo many notes in this measure: \u001b[39m\u001b[38;5;132;01m{\u001b[39;00m\u001b[38;5;28mself\u001b[39m\u001b[38;5;241m.\u001b[39mcurrentMeasureToken\u001b[38;5;241m.\u001b[39msrc\u001b[38;5;132;01m}\u001b[39;00m\u001b[38;5;124m'\u001b[39m)\n\u001b[0;32m    902\u001b[0m \u001b[38;5;28mself\u001b[39m\u001b[38;5;241m.\u001b[39mpreviousChordInMeasure\u001b[38;5;241m.\u001b[39mquarterLength \u001b[38;5;241m=\u001b[39m newQL\n",
      "\u001b[1;31mRomanTextTranslateException\u001b[0m: too many notes in this measure: m6 I b9 p",
      "\nDuring handling of the above exception, another exception occurred:\n",
      "\u001b[1;31mRomanTextTranslateException\u001b[0m               Traceback (most recent call last)",
      "Cell \u001b[1;32mIn[4], line 1\u001b[0m\n\u001b[1;32m----> 1\u001b[0m rn \u001b[38;5;241m=\u001b[39m \u001b[43mmusic21\u001b[49m\u001b[38;5;241;43m.\u001b[39;49m\u001b[43mconverter\u001b[49m\u001b[38;5;241;43m.\u001b[39;49m\u001b[43mparse\u001b[49m\u001b[43m(\u001b[49m\u001b[38;5;124;43mr\u001b[39;49m\u001b[38;5;124;43m'\u001b[39;49m\u001b[38;5;124;43mdata\u001b[39;49m\u001b[38;5;124;43m\\\u001b[39;49m\u001b[38;5;124;43mBeethoven\u001b[39;49m\u001b[38;5;124;43m\\\u001b[39;49m\u001b[38;5;124;43m7 Variations on God Save the King in C Major, B078\u001b[39;49m\u001b[38;5;124;43m\\\u001b[39;49m\u001b[38;5;124;43manalysis_generated.txt\u001b[39;49m\u001b[38;5;124;43m'\u001b[39;49m\u001b[43m,\u001b[49m\u001b[43m \u001b[49m\u001b[38;5;28;43mformat\u001b[39;49m\u001b[38;5;241;43m=\u001b[39;49m\u001b[38;5;124;43m'\u001b[39;49m\u001b[38;5;124;43mromantext\u001b[39;49m\u001b[38;5;124;43m'\u001b[39;49m\u001b[43m)\u001b[49m\n",
      "File \u001b[1;32mc:\\Users\\lxqse\\Documents\\Seb\\ATIAM\\Stage\\Harmonic Analysis Light\\.conda\\Lib\\site-packages\\music21\\converter\\__init__.py:1409\u001b[0m, in \u001b[0;36mparse\u001b[1;34m(value, forceSource, number, format, **keywords)\u001b[0m\n\u001b[0;32m   1406\u001b[0m     \u001b[38;5;28;01mreturn\u001b[39;00m parseData(value, number\u001b[38;5;241m=\u001b[39mnumber, \u001b[38;5;28mformat\u001b[39m\u001b[38;5;241m=\u001b[39m\u001b[38;5;28mformat\u001b[39m, \u001b[38;5;241m*\u001b[39m\u001b[38;5;241m*\u001b[39mkeywords)\n\u001b[0;32m   1407\u001b[0m \u001b[38;5;28;01melif\u001b[39;00m (\u001b[38;5;129;01mnot\u001b[39;00m \u001b[38;5;28misinstance\u001b[39m(value, \u001b[38;5;28mbytes\u001b[39m)\n\u001b[0;32m   1408\u001b[0m       \u001b[38;5;129;01mand\u001b[39;00m _osCanLoad(valueStr)):\n\u001b[1;32m-> 1409\u001b[0m     \u001b[38;5;28;01mreturn\u001b[39;00m \u001b[43mparseFile\u001b[49m\u001b[43m(\u001b[49m\u001b[43mvalueStr\u001b[49m\u001b[43m,\u001b[49m\u001b[43m \u001b[49m\u001b[43mnumber\u001b[49m\u001b[38;5;241;43m=\u001b[39;49m\u001b[43mnumber\u001b[49m\u001b[43m,\u001b[49m\u001b[43m \u001b[49m\u001b[38;5;28;43mformat\u001b[39;49m\u001b[38;5;241;43m=\u001b[39;49m\u001b[38;5;28;43mformat\u001b[39;49m\u001b[43m,\u001b[49m\n\u001b[0;32m   1410\u001b[0m \u001b[43m                     \u001b[49m\u001b[43mforceSource\u001b[49m\u001b[38;5;241;43m=\u001b[39;49m\u001b[43mforceSource\u001b[49m\u001b[43m,\u001b[49m\u001b[43m \u001b[49m\u001b[38;5;241;43m*\u001b[39;49m\u001b[38;5;241;43m*\u001b[39;49m\u001b[43mkeywords\u001b[49m\u001b[43m)\u001b[49m\n\u001b[0;32m   1411\u001b[0m \u001b[38;5;28;01melif\u001b[39;00m (\u001b[38;5;129;01mnot\u001b[39;00m \u001b[38;5;28misinstance\u001b[39m(value, \u001b[38;5;28mbytes\u001b[39m)\n\u001b[0;32m   1412\u001b[0m       \u001b[38;5;129;01mand\u001b[39;00m _osCanLoad(common\u001b[38;5;241m.\u001b[39mcleanpath(valueStr))):\n\u001b[0;32m   1413\u001b[0m     \u001b[38;5;28;01mreturn\u001b[39;00m parseFile(common\u001b[38;5;241m.\u001b[39mcleanpath(valueStr), number\u001b[38;5;241m=\u001b[39mnumber, \u001b[38;5;28mformat\u001b[39m\u001b[38;5;241m=\u001b[39m\u001b[38;5;28mformat\u001b[39m,\n\u001b[0;32m   1414\u001b[0m                      forceSource\u001b[38;5;241m=\u001b[39mforceSource, \u001b[38;5;241m*\u001b[39m\u001b[38;5;241m*\u001b[39mkeywords)\n",
      "File \u001b[1;32mc:\\Users\\lxqse\\Documents\\Seb\\ATIAM\\Stage\\Harmonic Analysis Light\\.conda\\Lib\\site-packages\\music21\\converter\\__init__.py:1263\u001b[0m, in \u001b[0;36mparseFile\u001b[1;34m(fp, number, format, forceSource, **keywords)\u001b[0m\n\u001b[0;32m   1261\u001b[0m v \u001b[38;5;241m=\u001b[39m Converter()\n\u001b[0;32m   1262\u001b[0m fp \u001b[38;5;241m=\u001b[39m common\u001b[38;5;241m.\u001b[39mcleanpath(fp, returnPathlib\u001b[38;5;241m=\u001b[39m\u001b[38;5;28;01mTrue\u001b[39;00m)\n\u001b[1;32m-> 1263\u001b[0m \u001b[43mv\u001b[49m\u001b[38;5;241;43m.\u001b[39;49m\u001b[43mparseFile\u001b[49m\u001b[43m(\u001b[49m\u001b[43mfp\u001b[49m\u001b[43m,\u001b[49m\u001b[43m \u001b[49m\u001b[43mnumber\u001b[49m\u001b[38;5;241;43m=\u001b[39;49m\u001b[43mnumber\u001b[49m\u001b[43m,\u001b[49m\u001b[43m \u001b[49m\u001b[38;5;28;43mformat\u001b[39;49m\u001b[38;5;241;43m=\u001b[39;49m\u001b[38;5;28;43mformat\u001b[39;49m\u001b[43m,\u001b[49m\u001b[43m \u001b[49m\u001b[43mforceSource\u001b[49m\u001b[38;5;241;43m=\u001b[39;49m\u001b[43mforceSource\u001b[49m\u001b[43m,\u001b[49m\u001b[43m \u001b[49m\u001b[38;5;241;43m*\u001b[39;49m\u001b[38;5;241;43m*\u001b[39;49m\u001b[43mkeywords\u001b[49m\u001b[43m)\u001b[49m\n\u001b[0;32m   1264\u001b[0m \u001b[38;5;28;01mif\u001b[39;00m t\u001b[38;5;241m.\u001b[39mTYPE_CHECKING:\n\u001b[0;32m   1265\u001b[0m     \u001b[38;5;28;01massert\u001b[39;00m \u001b[38;5;28misinstance\u001b[39m(v\u001b[38;5;241m.\u001b[39mstream, (stream\u001b[38;5;241m.\u001b[39mScore, stream\u001b[38;5;241m.\u001b[39mPart, stream\u001b[38;5;241m.\u001b[39mOpus))\n",
      "File \u001b[1;32mc:\\Users\\lxqse\\Documents\\Seb\\ATIAM\\Stage\\Harmonic Analysis Light\\.conda\\Lib\\site-packages\\music21\\converter\\__init__.py:646\u001b[0m, in \u001b[0;36mConverter.parseFile\u001b[1;34m(self, fp, number, format, forceSource, storePickle, **keywords)\u001b[0m\n\u001b[0;32m    644\u001b[0m \u001b[38;5;28;01melse\u001b[39;00m:\n\u001b[0;32m    645\u001b[0m     environLocal\u001b[38;5;241m.\u001b[39mprintDebug(\u001b[38;5;124m'\u001b[39m\u001b[38;5;124mLoading original version\u001b[39m\u001b[38;5;124m'\u001b[39m)\n\u001b[1;32m--> 646\u001b[0m     \u001b[38;5;28;43mself\u001b[39;49m\u001b[38;5;241;43m.\u001b[39;49m\u001b[43mparseFileNoPickle\u001b[49m\u001b[43m(\u001b[49m\u001b[43mfp\u001b[49m\u001b[43m,\u001b[49m\u001b[43m \u001b[49m\u001b[43mnumber\u001b[49m\u001b[43m,\u001b[49m\u001b[43m \u001b[49m\u001b[38;5;28;43mformat\u001b[39;49m\u001b[43m,\u001b[49m\u001b[43m \u001b[49m\u001b[43mforceSource\u001b[49m\u001b[43m,\u001b[49m\u001b[43m \u001b[49m\u001b[38;5;241;43m*\u001b[39;49m\u001b[38;5;241;43m*\u001b[39;49m\u001b[43mkeywords\u001b[49m\u001b[43m)\u001b[49m\n\u001b[0;32m    647\u001b[0m     \u001b[38;5;28;01mif\u001b[39;00m writePickle \u001b[38;5;129;01mis\u001b[39;00m \u001b[38;5;28;01mTrue\u001b[39;00m \u001b[38;5;129;01mand\u001b[39;00m fpPickle \u001b[38;5;129;01mis\u001b[39;00m \u001b[38;5;129;01mnot\u001b[39;00m \u001b[38;5;28;01mNone\u001b[39;00m \u001b[38;5;129;01mand\u001b[39;00m storePickle \u001b[38;5;129;01mis\u001b[39;00m \u001b[38;5;28;01mTrue\u001b[39;00m:\n\u001b[0;32m    648\u001b[0m         \u001b[38;5;66;03m# save the stream to disk...\u001b[39;00m\n\u001b[0;32m    649\u001b[0m         environLocal\u001b[38;5;241m.\u001b[39mprintDebug(\u001b[38;5;124m'\u001b[39m\u001b[38;5;124mFreezing Pickle\u001b[39m\u001b[38;5;124m'\u001b[39m)\n",
      "File \u001b[1;32mc:\\Users\\lxqse\\Documents\\Seb\\ATIAM\\Stage\\Harmonic Analysis Light\\.conda\\Lib\\site-packages\\music21\\converter\\__init__.py:568\u001b[0m, in \u001b[0;36mConverter.parseFileNoPickle\u001b[1;34m(self, fp, number, format, forceSource, **keywords)\u001b[0m\n\u001b[0;32m    566\u001b[0m \u001b[38;5;28mself\u001b[39m\u001b[38;5;241m.\u001b[39msubConverter\u001b[38;5;241m.\u001b[39mkeywords \u001b[38;5;241m=\u001b[39m keywords\n\u001b[0;32m    567\u001b[0m \u001b[38;5;28;01mtry\u001b[39;00m:\n\u001b[1;32m--> 568\u001b[0m     \u001b[38;5;28;43mself\u001b[39;49m\u001b[38;5;241;43m.\u001b[39;49m\u001b[43msubConverter\u001b[49m\u001b[38;5;241;43m.\u001b[39;49m\u001b[43mparseFile\u001b[49m\u001b[43m(\u001b[49m\n\u001b[0;32m    569\u001b[0m \u001b[43m        \u001b[49m\u001b[43mfp\u001b[49m\u001b[43m,\u001b[49m\n\u001b[0;32m    570\u001b[0m \u001b[43m        \u001b[49m\u001b[43mnumber\u001b[49m\u001b[38;5;241;43m=\u001b[39;49m\u001b[43mnumber\u001b[49m\u001b[43m,\u001b[49m\n\u001b[0;32m    571\u001b[0m \u001b[43m        \u001b[49m\u001b[38;5;241;43m*\u001b[39;49m\u001b[38;5;241;43m*\u001b[39;49m\u001b[43mkeywords\u001b[49m\n\u001b[0;32m    572\u001b[0m \u001b[43m    \u001b[49m\u001b[43m)\u001b[49m\n\u001b[0;32m    573\u001b[0m \u001b[38;5;28;01mexcept\u001b[39;00m \u001b[38;5;167;01mNotImplementedError\u001b[39;00m:\n\u001b[0;32m    574\u001b[0m     \u001b[38;5;28;01mraise\u001b[39;00m ConverterFileException(\u001b[38;5;124mf\u001b[39m\u001b[38;5;124m'\u001b[39m\u001b[38;5;124mFile is not in a correct format: \u001b[39m\u001b[38;5;132;01m{\u001b[39;00mfp\u001b[38;5;132;01m}\u001b[39;00m\u001b[38;5;124m'\u001b[39m)\n",
      "File \u001b[1;32mc:\\Users\\lxqse\\Documents\\Seb\\ATIAM\\Stage\\Harmonic Analysis Light\\.conda\\Lib\\site-packages\\music21\\converter\\subConverters.py:1168\u001b[0m, in \u001b[0;36mConverterRomanText.parseFile\u001b[1;34m(self, filePath, number, **keywords)\u001b[0m\n\u001b[0;32m   1166\u001b[0m rtHandler \u001b[38;5;241m=\u001b[39m rtf\u001b[38;5;241m.\u001b[39mread()\n\u001b[0;32m   1167\u001b[0m rtf\u001b[38;5;241m.\u001b[39mclose()\n\u001b[1;32m-> 1168\u001b[0m \u001b[43mromanTextTranslate\u001b[49m\u001b[38;5;241;43m.\u001b[39;49m\u001b[43mromanTextToStreamScore\u001b[49m\u001b[43m(\u001b[49m\u001b[43mrtHandler\u001b[49m\u001b[43m,\u001b[49m\u001b[43m \u001b[49m\u001b[38;5;28;43mself\u001b[39;49m\u001b[38;5;241;43m.\u001b[39;49m\u001b[43mstream\u001b[49m\u001b[43m)\u001b[49m\n",
      "File \u001b[1;32mc:\\Users\\lxqse\\Documents\\Seb\\ATIAM\\Stage\\Harmonic Analysis Light\\.conda\\Lib\\site-packages\\music21\\romanText\\translate.py:955\u001b[0m, in \u001b[0;36mromanTextToStreamScore\u001b[1;34m(rtHandler, inputM21)\u001b[0m\n\u001b[0;32m    952\u001b[0m s\u001b[38;5;241m.\u001b[39minsert(\u001b[38;5;241m0\u001b[39m, md)\n\u001b[0;32m    954\u001b[0m partTrans \u001b[38;5;241m=\u001b[39m PartTranslator(md)\n\u001b[1;32m--> 955\u001b[0m p \u001b[38;5;241m=\u001b[39m \u001b[43mpartTrans\u001b[49m\u001b[38;5;241;43m.\u001b[39;49m\u001b[43mtranslateTokens\u001b[49m\u001b[43m(\u001b[49m\u001b[43mtokenedRtHandler\u001b[49m\u001b[38;5;241;43m.\u001b[39;49m\u001b[43mtokens\u001b[49m\u001b[43m)\u001b[49m\n\u001b[0;32m    956\u001b[0m s\u001b[38;5;241m.\u001b[39minsert(\u001b[38;5;241m0\u001b[39m, p)\n\u001b[0;32m    958\u001b[0m \u001b[38;5;28;01mreturn\u001b[39;00m s\n",
      "File \u001b[1;32mc:\\Users\\lxqse\\Documents\\Seb\\ATIAM\\Stage\\Harmonic Analysis Light\\.conda\\Lib\\site-packages\\music21\\romanText\\translate.py:386\u001b[0m, in \u001b[0;36mPartTranslator.translateTokens\u001b[1;34m(self, tokens)\u001b[0m\n\u001b[0;32m    384\u001b[0m     \u001b[38;5;28;01mexcept\u001b[39;00m \u001b[38;5;167;01mException\u001b[39;00m:  \u001b[38;5;66;03m# pylint: disable=broad-exception-caught\u001b[39;00m\n\u001b[0;32m    385\u001b[0m         tracebackMessage \u001b[38;5;241m=\u001b[39m traceback\u001b[38;5;241m.\u001b[39mformat_exc()\n\u001b[1;32m--> 386\u001b[0m         \u001b[38;5;28;01mraise\u001b[39;00m RomanTextTranslateException(\n\u001b[0;32m    387\u001b[0m             \u001b[38;5;124mf\u001b[39m\u001b[38;5;124m'\u001b[39m\u001b[38;5;124mAt line \u001b[39m\u001b[38;5;132;01m{\u001b[39;00mtoken\u001b[38;5;241m.\u001b[39mlineNumber\u001b[38;5;132;01m}\u001b[39;00m\u001b[38;5;124m for token \u001b[39m\u001b[38;5;132;01m{\u001b[39;00mtoken\u001b[38;5;132;01m}\u001b[39;00m\u001b[38;5;124m, \u001b[39m\u001b[38;5;124m'\u001b[39m\n\u001b[0;32m    388\u001b[0m             \u001b[38;5;241m+\u001b[39m \u001b[38;5;124mf\u001b[39m\u001b[38;5;124m'\u001b[39m\u001b[38;5;124man exception was raised: \u001b[39m\u001b[38;5;130;01m\\n\u001b[39;00m\u001b[38;5;132;01m{\u001b[39;00mtracebackMessage\u001b[38;5;132;01m}\u001b[39;00m\u001b[38;5;124m'\u001b[39m)\n\u001b[0;32m    390\u001b[0m p \u001b[38;5;241m=\u001b[39m \u001b[38;5;28mself\u001b[39m\u001b[38;5;241m.\u001b[39mp\n\u001b[0;32m    391\u001b[0m p\u001b[38;5;241m.\u001b[39mcoreElementsChanged()\n",
      "\u001b[1;31mRomanTextTranslateException\u001b[0m: At line 12 for token <music21.romanText.rtObjects.RTMeasure 6>, an exception was raised: \nTraceback (most recent call last):\n  File \"c:\\Users\\lxqse\\Documents\\Seb\\ATIAM\\Stage\\Harmonic Analysis Light\\.conda\\Lib\\site-packages\\music21\\romanText\\translate.py\", line 383, in translateTokens\n    self.translateOneLineToken(token)\n  File \"c:\\Users\\lxqse\\Documents\\Seb\\ATIAM\\Stage\\Harmonic Analysis Light\\.conda\\Lib\\site-packages\\music21\\romanText\\translate.py\", line 414, in translateOneLineToken\n    self.translateMeasureLineToken(lineToken)\n  File \"c:\\Users\\lxqse\\Documents\\Seb\\ATIAM\\Stage\\Harmonic Analysis Light\\.conda\\Lib\\site-packages\\music21\\romanText\\translate.py\", line 585, in translateMeasureLineToken\n    m = self.translateSingleMeasure(measureLineToken)\n        ^^^^^^^^^^^^^^^^^^^^^^^^^^^^^^^^^^^^^^^^^^^^^\n  File \"c:\\Users\\lxqse\\Documents\\Seb\\ATIAM\\Stage\\Harmonic Analysis Light\\.conda\\Lib\\site-packages\\music21\\romanText\\translate.py\", line 697, in translateSingleMeasure\n    self.translateSingleMeasureAtom(a, m, isLastAtomInMeasure=isLastAtomInMeasure)\n  File \"c:\\Users\\lxqse\\Documents\\Seb\\ATIAM\\Stage\\Harmonic Analysis Light\\.conda\\Lib\\site-packages\\music21\\romanText\\translate.py\", line 799, in translateSingleMeasureAtom\n    self.processRTChord(a, m, self.currentOffsetInMeasure)\n  File \"c:\\Users\\lxqse\\Documents\\Seb\\ATIAM\\Stage\\Harmonic Analysis Light\\.conda\\Lib\\site-packages\\music21\\romanText\\translate.py\", line 900, in processRTChord\n    raise RomanTextTranslateException(\nmusic21.romanText.translate.RomanTextTranslateException: too many notes in this measure: m6 I b9 p\n"
     ]
    }
   ],
   "source": [
    "rn = music21.converter.parse(r'data\\Beethoven\\7 Variations on God Save the King in C Major, B078\\analysis_generated.txt', format='romantext')"
   ]
  },
  {
   "cell_type": "code",
   "execution_count": 3,
   "metadata": {},
   "outputs": [
    {
     "name": "stdout",
     "output_type": "stream",
     "text": [
      "<music21.roman.RomanNumeral I in C major>\n",
      "<music21.roman.RomanNumeral ii in C major>\n",
      "<music21.roman.RomanNumeral V in C major>\n",
      "<music21.roman.RomanNumeral vi7 in C major>\n",
      "<music21.roman.RomanNumeral V in C major>\n",
      "<music21.roman.RomanNumeral I in C major>\n",
      "<music21.roman.RomanNumeral vi in C major>\n",
      "<music21.roman.RomanNumeral ii in C major>\n",
      "<music21.roman.RomanNumeral I in C major>\n",
      "<music21.roman.RomanNumeral V in a minor>\n",
      "<music21.roman.RomanNumeral viio7 in a minor>\n",
      "<music21.roman.RomanNumeral i in a minor>\n",
      "<music21.roman.RomanNumeral IVmaj7 in C major>\n",
      "<music21.roman.RomanNumeral ii in C major>\n",
      "<music21.roman.RomanNumeral I in C major>\n",
      "<music21.roman.RomanNumeral V in C major>\n",
      "<music21.roman.RomanNumeral Ip in C major>\n"
     ]
    }
   ],
   "source": [
    "for r in rn.recurse().getElementsByClass(music21.roman.RomanNumeral):\n",
    "    print(r)"
   ]
  },
  {
   "cell_type": "code",
   "execution_count": 15,
   "metadata": {},
   "outputs": [
    {
     "data": {
      "text/plain": [
       "[RhythmTreeNode(onset=0, subdivision=1, duration=2),\n",
       " RhythmTreeNode(onset=2, subdivision=1, duration=2),\n",
       " RhythmTreeNode(onset=4, subdivision=1, duration=2),\n",
       " RhythmTreeNode(onset=0, subdivision=3, duration=6)]"
      ]
     },
     "execution_count": 15,
     "metadata": {},
     "output_type": "execute_result"
    }
   ],
   "source": [
    "list(rhythm_tree_analyzed.children[0].depth_first_search())"
   ]
  },
  {
   "cell_type": "code",
   "execution_count": null,
   "metadata": {},
   "outputs": [],
   "source": []
  }
 ],
 "metadata": {
  "kernelspec": {
   "display_name": "Python 3",
   "language": "python",
   "name": "python3"
  },
  "language_info": {
   "codemirror_mode": {
    "name": "ipython",
    "version": 3
   },
   "file_extension": ".py",
   "mimetype": "text/x-python",
   "name": "python",
   "nbconvert_exporter": "python",
   "pygments_lexer": "ipython3",
   "version": "3.11.9"
  }
 },
 "nbformat": 4,
 "nbformat_minor": 2
}
